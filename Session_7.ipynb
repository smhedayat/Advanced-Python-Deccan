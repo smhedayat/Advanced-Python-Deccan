{
 "cells": [
  {
   "cell_type": "markdown",
   "id": "fc87c896",
   "metadata": {},
   "source": [
    "### Name : S.M.Hedayatullah\n",
    "### Enroll No. 0010"
   ]
  },
  {
   "cell_type": "markdown",
   "id": "45bc7b0a",
   "metadata": {},
   "source": [
    "# Machine Learing -Binary Classification"
   ]
  },
  {
   "cell_type": "markdown",
   "id": "08a3cbbe",
   "metadata": {},
   "source": [
    " Decision Tree (we ll see classification here)"
   ]
  },
  {
   "cell_type": "code",
   "execution_count": null,
   "id": "5a5ca91b",
   "metadata": {},
   "outputs": [],
   "source": [
    "# Binary Classification\n",
    "# Dataset :  news_data.csv , sample_news.txt\n",
    "# Location : https://mitu.co.in/dataset . Download and save in current working dorectory"
   ]
  },
  {
   "cell_type": "code",
   "execution_count": null,
   "id": "0d042d82",
   "metadata": {},
   "outputs": [],
   "source": [
    "import os\n",
    "os.getcwd()"
   ]
  },
  {
   "cell_type": "code",
   "execution_count": 3,
   "id": "c1332c6b",
   "metadata": {},
   "outputs": [
    {
     "data": {
      "text/plain": [
       "['.ipynb_checkpoints',\n",
       " 'Deccan Advanced Class 1 and 2.ipynb',\n",
       " 'news_data.csv',\n",
       " 'sample_news.txt',\n",
       " 'Sample_resume.txt',\n",
       " 'session 7.ipynb',\n",
       " 'Session New _8 Machine Learning Multiclass Classification.ipynb',\n",
       " 'Session_3_Deccan.ipynb',\n",
       " 'Session_4.2_Deccan.ipynb',\n",
       " 'Session_4_Deccan.ipynb',\n",
       " 'Session_5 and 6_Deccan.ipynb',\n",
       " 'Untitled.ipynb',\n",
       " 'UpdatedResumeDataSet.csv']"
      ]
     },
     "execution_count": 3,
     "metadata": {},
     "output_type": "execute_result"
    }
   ],
   "source": [
    "os.listdir(os.getcwd())  # give all the files in cwd . we can check if our desired file is there or not"
   ]
  },
  {
   "cell_type": "code",
   "execution_count": null,
   "id": "37592387",
   "metadata": {},
   "outputs": [],
   "source": [
    "# news_data is a huge data and contains real or fake news data"
   ]
  },
  {
   "cell_type": "markdown",
   "id": "8ef2c415",
   "metadata": {},
   "source": [
    "Import the libraries"
   ]
  },
  {
   "cell_type": "code",
   "execution_count": 4,
   "id": "506f82fc",
   "metadata": {},
   "outputs": [
    {
     "name": "stderr",
     "output_type": "stream",
     "text": [
      "C:\\Users\\User\\anaconda3\\lib\\site-packages\\scipy\\__init__.py:155: UserWarning: A NumPy version >=1.18.5 and <1.25.0 is required for this version of SciPy (detected version 1.26.4\n",
      "  warnings.warn(f\"A NumPy version >={np_minversion} and <{np_maxversion}\"\n"
     ]
    }
   ],
   "source": [
    "import pandas as pd\n",
    "import seaborn as sns\n",
    "import matplotlib.pyplot as plt"
   ]
  },
  {
   "cell_type": "markdown",
   "id": "b8567b96",
   "metadata": {},
   "source": [
    "Read the Dataset"
   ]
  },
  {
   "cell_type": "code",
   "execution_count": 5,
   "id": "969bb4d3",
   "metadata": {},
   "outputs": [],
   "source": [
    "df = pd.read_csv('news_data.csv')"
   ]
  },
  {
   "cell_type": "code",
   "execution_count": 6,
   "id": "0fba12bc",
   "metadata": {},
   "outputs": [
    {
     "data": {
      "text/plain": [
       "(9900, 2)"
      ]
     },
     "execution_count": 6,
     "metadata": {},
     "output_type": "execute_result"
    }
   ],
   "source": [
    "df.shape"
   ]
  },
  {
   "cell_type": "code",
   "execution_count": 7,
   "id": "20491069",
   "metadata": {},
   "outputs": [
    {
     "data": {
      "text/plain": [
       "Index(['Text', 'label'], dtype='object')"
      ]
     },
     "execution_count": 7,
     "metadata": {},
     "output_type": "execute_result"
    }
   ],
   "source": [
    "df.columns     # Shows the 2 columns "
   ]
  },
  {
   "cell_type": "markdown",
   "id": "dd6c3f08",
   "metadata": {},
   "source": [
    "##### Separate the input and output Data"
   ]
  },
  {
   "cell_type": "code",
   "execution_count": 8,
   "id": "1d7923f3",
   "metadata": {},
   "outputs": [],
   "source": [
    "features = df['Text']   # Input Data\n",
    "label = df['label']     # Output Data"
   ]
  },
  {
   "cell_type": "code",
   "execution_count": 9,
   "id": "85340516",
   "metadata": {},
   "outputs": [
    {
     "data": {
      "text/plain": [
       "0     Top Trump Surrogate BRUTALLY Stabs Him In The...\n",
       "1    U.S. conservative leader optimistic of common ...\n",
       "2    Trump proposes U.S. tax overhaul, stirs concer...\n",
       "3     Court Forces Ohio To Allow Millions Of Illega...\n",
       "4    Democrats say Trump agrees to work on immigrat...\n",
       "Name: Text, dtype: object"
      ]
     },
     "execution_count": 9,
     "metadata": {},
     "output_type": "execute_result"
    }
   ],
   "source": [
    "features.head()"
   ]
  },
  {
   "cell_type": "code",
   "execution_count": 10,
   "id": "3665e4a3",
   "metadata": {},
   "outputs": [
    {
     "data": {
      "text/plain": [
       "0    Fake\n",
       "1    Real\n",
       "2    Real\n",
       "3    Fake\n",
       "4    Real\n",
       "Name: label, dtype: object"
      ]
     },
     "execution_count": 10,
     "metadata": {},
     "output_type": "execute_result"
    }
   ],
   "source": [
    "label.head()"
   ]
  },
  {
   "cell_type": "code",
   "execution_count": 11,
   "id": "e2daa338",
   "metadata": {},
   "outputs": [
    {
     "data": {
      "text/plain": [
       "{'Fake', 'Real'}"
      ]
     },
     "execution_count": 11,
     "metadata": {},
     "output_type": "execute_result"
    }
   ],
   "source": [
    "# Check how many values re there in respective categories\n",
    "set(label)"
   ]
  },
  {
   "cell_type": "code",
   "execution_count": 12,
   "id": "5f3c520d",
   "metadata": {},
   "outputs": [
    {
     "data": {
      "text/plain": [
       "array(['Fake', 'Real'], dtype=object)"
      ]
     },
     "execution_count": 12,
     "metadata": {},
     "output_type": "execute_result"
    }
   ],
   "source": [
    "df['label'].unique()"
   ]
  },
  {
   "cell_type": "code",
   "execution_count": 13,
   "id": "7f6df9c7",
   "metadata": {},
   "outputs": [
    {
     "data": {
      "text/plain": [
       "<AxesSubplot:xlabel='label', ylabel='count'>"
      ]
     },
     "execution_count": 13,
     "metadata": {},
     "output_type": "execute_result"
    },
    {
     "data": {
      "image/png": "[encoded data removed]",
      "text/plain": [
       "<Figure size 640x480 with 1 Axes>"
      ]
     },
     "metadata": {},
     "output_type": "display_data"
    }
   ],
   "source": [
    "# To check how many Fake and How many Real\n",
    "sns.countplot(x = label)"
   ]
  },
  {
   "cell_type": "code",
   "execution_count": 14,
   "id": "1e1df894",
   "metadata": {},
   "outputs": [
    {
     "data": {
      "text/plain": [
       "Fake    5000\n",
       "Real    4900\n",
       "Name: label, dtype: int64"
      ]
     },
     "execution_count": 14,
     "metadata": {},
     "output_type": "execute_result"
    }
   ],
   "source": [
    "label.value_counts()"
   ]
  },
  {
   "cell_type": "code",
   "execution_count": null,
   "id": "d9fc2f4c",
   "metadata": {},
   "outputs": [],
   "source": [
    "# If the data is imbalanced , there is a method called resampling to make our data balanced"
   ]
  },
  {
   "cell_type": "code",
   "execution_count": 15,
   "id": "20f96ab4",
   "metadata": {},
   "outputs": [
    {
     "data": {
      "text/plain": [
       "([<matplotlib.patches.Wedge at 0x13ee4ae3340>,\n",
       "  <matplotlib.patches.Wedge at 0x13ee4ae3a60>],\n",
       " [Text(-0.017452474924647392, 1.0998615417946955, 'Fake'),\n",
       "  Text(0.017452371948178103, -1.0998615434287093, 'Real')],\n",
       " [Text(-0.009519531777080396, 0.599924477342561, '50.51%'),\n",
       "  Text(0.009519475608097145, -0.5999244782338414, '49.49%')])"
      ]
     },
     "execution_count": 15,
     "metadata": {},
     "output_type": "execute_result"
    },
    {
     "data": {
      "image/png": "[encoded data removed]",
      "text/plain": [
       "<Figure size 640x480 with 1 Axes>"
      ]
     },
     "metadata": {},
     "output_type": "display_data"
    }
   ],
   "source": [
    "# To check the data is balanced or not we can also see through pie chart\n",
    "plt.pie(label.value_counts(), labels = label.value_counts().index, autopct='%2.2f%%')"
   ]
  },
  {
   "cell_type": "code",
   "execution_count": null,
   "id": "b975d7d1",
   "metadata": {},
   "outputs": [],
   "source": [
    "# We ll train the model , we require the data in numeric form . We will use TF-IDF but first we clean the data"
   ]
  },
  {
   "cell_type": "code",
   "execution_count": null,
   "id": "94c337bd",
   "metadata": {},
   "outputs": [],
   "source": [
    "# Cleaning First\n",
    "# Then vetorizing "
   ]
  },
  {
   "cell_type": "markdown",
   "id": "4c2b1974",
   "metadata": {},
   "source": [
    "# Data Preparation "
   ]
  },
  {
   "cell_type": "markdown",
   "id": "00ed71a1",
   "metadata": {},
   "source": [
    "Data Cleaning"
   ]
  },
  {
   "cell_type": "code",
   "execution_count": null,
   "id": "75bfa718",
   "metadata": {},
   "outputs": [],
   "source": [
    "# Steps : Tokenize, change to lower case, remove punctuation , affixes , remove stop words -- Only keywords needed"
   ]
  },
  {
   "cell_type": "code",
   "execution_count": 16,
   "id": "0c436d72",
   "metadata": {},
   "outputs": [],
   "source": [
    "from nltk.tokenize import word_tokenize\n",
    "from nltk.corpus import stopwords\n",
    "from nltk.stem import PorterStemmer"
   ]
  },
  {
   "cell_type": "code",
   "execution_count": 17,
   "id": "a6f9c36b",
   "metadata": {},
   "outputs": [],
   "source": [
    "# just a demo\n",
    "sent = 'Hello friends! How are you? I like Python Programming'"
   ]
  },
  {
   "cell_type": "code",
   "execution_count": 18,
   "id": "131163cd",
   "metadata": {},
   "outputs": [],
   "source": [
    "# Tokenize\n",
    "tokens1 = word_tokenize(sent)"
   ]
  },
  {
   "cell_type": "code",
   "execution_count": 19,
   "id": "056ac10e",
   "metadata": {},
   "outputs": [
    {
     "data": {
      "text/plain": [
       "['Hello',\n",
       " 'friends',\n",
       " '!',\n",
       " 'How',\n",
       " 'are',\n",
       " 'you',\n",
       " '?',\n",
       " 'I',\n",
       " 'like',\n",
       " 'Python',\n",
       " 'Programming']"
      ]
     },
     "execution_count": 19,
     "metadata": {},
     "output_type": "execute_result"
    }
   ],
   "source": [
    "tokens1"
   ]
  },
  {
   "cell_type": "code",
   "execution_count": 20,
   "id": "28b8d2fc",
   "metadata": {},
   "outputs": [
    {
     "data": {
      "text/plain": [
       "['Hello', 'friends', 'How', 'are', 'you', 'I', 'like', 'Python', 'Programming']"
      ]
     },
     "execution_count": 20,
     "metadata": {},
     "output_type": "execute_result"
    }
   ],
   "source": [
    "# remove punctuations\n",
    "tokens2 = [x for x in tokens1 if x.isalpha()]\n",
    "tokens2"
   ]
  },
  {
   "cell_type": "code",
   "execution_count": 21,
   "id": "f20a0f4a",
   "metadata": {},
   "outputs": [
    {
     "data": {
      "text/plain": [
       "['i',\n",
       " 'me',\n",
       " 'my',\n",
       " 'myself',\n",
       " 'we',\n",
       " 'our',\n",
       " 'ours',\n",
       " 'ourselves',\n",
       " 'you',\n",
       " \"you're\",\n",
       " \"you've\",\n",
       " \"you'll\",\n",
       " \"you'd\",\n",
       " 'your',\n",
       " 'yours',\n",
       " 'yourself',\n",
       " 'yourselves',\n",
       " 'he',\n",
       " 'him',\n",
       " 'his',\n",
       " 'himself',\n",
       " 'she',\n",
       " \"she's\",\n",
       " 'her',\n",
       " 'hers',\n",
       " 'herself',\n",
       " 'it',\n",
       " \"it's\",\n",
       " 'its',\n",
       " 'itself',\n",
       " 'they',\n",
       " 'them',\n",
       " 'their',\n",
       " 'theirs',\n",
       " 'themselves',\n",
       " 'what',\n",
       " 'which',\n",
       " 'who',\n",
       " 'whom',\n",
       " 'this',\n",
       " 'that',\n",
       " \"that'll\",\n",
       " 'these',\n",
       " 'those',\n",
       " 'am',\n",
       " 'is',\n",
       " 'are',\n",
       " 'was',\n",
       " 'were',\n",
       " 'be',\n",
       " 'been',\n",
       " 'being',\n",
       " 'have',\n",
       " 'has',\n",
       " 'had',\n",
       " 'having',\n",
       " 'do',\n",
       " 'does',\n",
       " 'did',\n",
       " 'doing',\n",
       " 'a',\n",
       " 'an',\n",
       " 'the',\n",
       " 'and',\n",
       " 'but',\n",
       " 'if',\n",
       " 'or',\n",
       " 'because',\n",
       " 'as',\n",
       " 'until',\n",
       " 'while',\n",
       " 'of',\n",
       " 'at',\n",
       " 'by',\n",
       " 'for',\n",
       " 'with',\n",
       " 'about',\n",
       " 'against',\n",
       " 'between',\n",
       " 'into',\n",
       " 'through',\n",
       " 'during',\n",
       " 'before',\n",
       " 'after',\n",
       " 'above',\n",
       " 'below',\n",
       " 'to',\n",
       " 'from',\n",
       " 'up',\n",
       " 'down',\n",
       " 'in',\n",
       " 'out',\n",
       " 'on',\n",
       " 'off',\n",
       " 'over',\n",
       " 'under',\n",
       " 'again',\n",
       " 'further',\n",
       " 'then',\n",
       " 'once',\n",
       " 'here',\n",
       " 'there',\n",
       " 'when',\n",
       " 'where',\n",
       " 'why',\n",
       " 'how',\n",
       " 'all',\n",
       " 'any',\n",
       " 'both',\n",
       " 'each',\n",
       " 'few',\n",
       " 'more',\n",
       " 'most',\n",
       " 'other',\n",
       " 'some',\n",
       " 'such',\n",
       " 'no',\n",
       " 'nor',\n",
       " 'not',\n",
       " 'only',\n",
       " 'own',\n",
       " 'same',\n",
       " 'so',\n",
       " 'than',\n",
       " 'too',\n",
       " 'very',\n",
       " 's',\n",
       " 't',\n",
       " 'can',\n",
       " 'will',\n",
       " 'just',\n",
       " 'don',\n",
       " \"don't\",\n",
       " 'should',\n",
       " \"should've\",\n",
       " 'now',\n",
       " 'd',\n",
       " 'll',\n",
       " 'm',\n",
       " 'o',\n",
       " 're',\n",
       " 've',\n",
       " 'y',\n",
       " 'ain',\n",
       " 'aren',\n",
       " \"aren't\",\n",
       " 'couldn',\n",
       " \"couldn't\",\n",
       " 'didn',\n",
       " \"didn't\",\n",
       " 'doesn',\n",
       " \"doesn't\",\n",
       " 'hadn',\n",
       " \"hadn't\",\n",
       " 'hasn',\n",
       " \"hasn't\",\n",
       " 'haven',\n",
       " \"haven't\",\n",
       " 'isn',\n",
       " \"isn't\",\n",
       " 'ma',\n",
       " 'mightn',\n",
       " \"mightn't\",\n",
       " 'mustn',\n",
       " \"mustn't\",\n",
       " 'needn',\n",
       " \"needn't\",\n",
       " 'shan',\n",
       " \"shan't\",\n",
       " 'shouldn',\n",
       " \"shouldn't\",\n",
       " 'wasn',\n",
       " \"wasn't\",\n",
       " 'weren',\n",
       " \"weren't\",\n",
       " 'won',\n",
       " \"won't\",\n",
       " 'wouldn',\n",
       " \"wouldn't\"]"
      ]
     },
     "execution_count": 21,
     "metadata": {},
     "output_type": "execute_result"
    }
   ],
   "source": [
    "# remove stopwords \n",
    "swords = stopwords.words('english')\n",
    "swords"
   ]
  },
  {
   "cell_type": "code",
   "execution_count": 22,
   "id": "6d1c601a",
   "metadata": {},
   "outputs": [
    {
     "data": {
      "text/plain": [
       "['Hello', 'friends', 'How', 'I', 'like', 'Python', 'Programming']"
      ]
     },
     "execution_count": 22,
     "metadata": {},
     "output_type": "execute_result"
    }
   ],
   "source": [
    "# removng stopwords\n",
    "tokens3 = [x for x in tokens2 if x not in swords]\n",
    "tokens3"
   ]
  },
  {
   "cell_type": "code",
   "execution_count": 23,
   "id": "a4004d48",
   "metadata": {},
   "outputs": [
    {
     "data": {
      "text/plain": [
       "['hello', 'friend', 'how', 'i', 'like', 'python', 'program']"
      ]
     },
     "execution_count": 23,
     "metadata": {},
     "output_type": "execute_result"
    }
   ],
   "source": [
    "# remove suffixes \n",
    "ps = PorterStemmer()\n",
    "tokens4 = [ps.stem(x) for x in tokens3]\n",
    "tokens4"
   ]
  },
  {
   "cell_type": "code",
   "execution_count": 24,
   "id": "c5c5889b",
   "metadata": {},
   "outputs": [],
   "source": [
    "# Before Vectorizing the text , we define a function using the above lines so that we can use it for a larger text\n",
    "# Defining a function for text Cleaning\n",
    "def clean_text(sent):\n",
    "    tokens1 = word_tokenize(sent)\n",
    "    tokens2 = [x for x in tokens1 if x.isalpha()]\n",
    "    tokens3 = [x for x in tokens2 if x not in swords]\n",
    "    tokens4 = [ps.stem(x) for x in tokens3]\n",
    "    return tokens4\n",
    "\n",
    "# We ll use this function before Vectorization"
   ]
  },
  {
   "cell_type": "code",
   "execution_count": 25,
   "id": "64ca0500",
   "metadata": {},
   "outputs": [
    {
     "data": {
      "text/plain": [
       "['hello', 'friend', 'how', 'i', 'like', 'python', 'program']"
      ]
     },
     "execution_count": 25,
     "metadata": {},
     "output_type": "execute_result"
    }
   ],
   "source": [
    "clean_text(sent)  #"
   ]
  },
  {
   "cell_type": "code",
   "execution_count": 26,
   "id": "6dc9cee0",
   "metadata": {},
   "outputs": [
    {
     "data": {
      "text/plain": [
       "['it', 'expect', 'result', 'they', 'told', 'field']"
      ]
     },
     "execution_count": 26,
     "metadata": {},
     "output_type": "execute_result"
    }
   ],
   "source": [
    "# Lets see an example \n",
    "new_sent = 'It was the expected result. They told the same on fields.'\n",
    "clean_text(new_sent)"
   ]
  },
  {
   "cell_type": "code",
   "execution_count": 27,
   "id": "7585f66d",
   "metadata": {},
   "outputs": [
    {
     "data": {
      "text/plain": [
       "['rank',\n",
       " 'dem',\n",
       " 'on',\n",
       " 'hous',\n",
       " 'russia',\n",
       " 'probe',\n",
       " 'ha',\n",
       " 'explos',\n",
       " 'new',\n",
       " 'for',\n",
       " 'trump',\n",
       " 'that',\n",
       " 'will',\n",
       " 'have',\n",
       " 'him',\n",
       " 'run',\n",
       " 'scare',\n",
       " 'as',\n",
       " 'everybodi',\n",
       " 'still',\n",
       " 'believ',\n",
       " 'democraci',\n",
       " 'true',\n",
       " 'freedom',\n",
       " 'reel',\n",
       " 'fbi',\n",
       " 'director',\n",
       " 'jame',\n",
       " 'comey',\n",
       " 'fire',\n",
       " 'media',\n",
       " 'member',\n",
       " 'congress',\n",
       " 'frantic',\n",
       " 'work',\n",
       " 'get',\n",
       " 'deet',\n",
       " 'happen',\n",
       " 'adam',\n",
       " 'schiff',\n",
       " 'rank',\n",
       " 'member',\n",
       " 'hous',\n",
       " 'intellig',\n",
       " 'committe',\n",
       " 'conduct',\n",
       " 'investig',\n",
       " 'russia',\n",
       " 'drop',\n",
       " 'truth',\n",
       " 'bomb',\n",
       " 'comey',\n",
       " 'trump',\n",
       " 'would',\n",
       " 'wise',\n",
       " 'go',\n",
       " 'find',\n",
       " 'cave',\n",
       " 'hide',\n",
       " 'ask',\n",
       " 'cnn',\n",
       " 'whether',\n",
       " 'believ',\n",
       " 'he',\n",
       " 'he',\n",
       " 'think',\n",
       " 'someth',\n",
       " 'wors',\n",
       " 'it',\n",
       " 'brazen',\n",
       " 'interfer',\n",
       " 'crimin',\n",
       " 'investig',\n",
       " 'after',\n",
       " 'presid',\n",
       " 'call',\n",
       " 'whole',\n",
       " 'investig',\n",
       " 'fake',\n",
       " 'fbi',\n",
       " 'director',\n",
       " 'serious',\n",
       " 'look',\n",
       " 'whether',\n",
       " 'trump',\n",
       " 'associ',\n",
       " 'collud',\n",
       " 'russian',\n",
       " 'the',\n",
       " 'end',\n",
       " 'statement',\n",
       " 'cnn',\n",
       " 'particularli',\n",
       " 'jar',\n",
       " 'anybodi',\n",
       " 'familiar',\n",
       " 'histori',\n",
       " 'watch',\n",
       " 'adam',\n",
       " 'schiff',\n",
       " 'fire',\n",
       " 'fbi',\n",
       " 'director',\n",
       " 'jame',\n",
       " 'comey',\n",
       " 'it',\n",
       " 'brazen',\n",
       " 'interfer',\n",
       " 'crimin',\n",
       " 'investig',\n",
       " 'http',\n",
       " 'cnn',\n",
       " 'cnn',\n",
       " 'may',\n",
       " 'year',\n",
       " 'white',\n",
       " 'hous',\n",
       " 'tri',\n",
       " 'get',\n",
       " 'fbi',\n",
       " 'publicli',\n",
       " 'disput',\n",
       " 'stori',\n",
       " 'appear',\n",
       " 'the',\n",
       " 'new',\n",
       " 'york',\n",
       " 'time',\n",
       " 'contact',\n",
       " 'trump',\n",
       " 'associ',\n",
       " 'russian',\n",
       " 'actor',\n",
       " 'they',\n",
       " 'tri',\n",
       " 'bend',\n",
       " 'fbi',\n",
       " 'long',\n",
       " 'time',\n",
       " 'comey',\n",
       " 'lie',\n",
       " 'oath',\n",
       " 'end',\n",
       " 'russia',\n",
       " 'probe',\n",
       " 'trump',\n",
       " 'decid',\n",
       " 'fire',\n",
       " 'fact',\n",
       " 'jeff',\n",
       " 'session',\n",
       " 'actual',\n",
       " 'told',\n",
       " 'find',\n",
       " 'reason',\n",
       " 'fire',\n",
       " 'comey',\n",
       " 'work',\n",
       " 'least',\n",
       " 'week',\n",
       " 'trump',\n",
       " 'like',\n",
       " 'want',\n",
       " 'someon',\n",
       " 'posit',\n",
       " 'end',\n",
       " 'investig',\n",
       " 'discov',\n",
       " 'someth',\n",
       " 'realli',\n",
       " 'damn',\n",
       " 'he',\n",
       " 'want',\n",
       " 'trump',\n",
       " 'innoc',\n",
       " 'white',\n",
       " 'hous',\n",
       " 'look',\n",
       " 'reason',\n",
       " 'fire',\n",
       " 'comey',\n",
       " 'comey',\n",
       " 'may',\n",
       " 'even',\n",
       " 'fire',\n",
       " 'trump',\n",
       " 'probabl',\n",
       " 'would',\n",
       " 'done',\n",
       " 'took',\n",
       " 'offic',\n",
       " 'guis',\n",
       " 'get',\n",
       " 'fresh',\n",
       " 'start',\n",
       " 'schiff',\n",
       " 'said',\n",
       " 'cnn',\n",
       " 'thi',\n",
       " 'behavior',\n",
       " 'innoc',\n",
       " 'imag',\n",
       " 'via',\n",
       " 'mark',\n",
       " 'imag']"
      ]
     },
     "execution_count": 27,
     "metadata": {},
     "output_type": "execute_result"
    }
   ],
   "source": [
    "# Lets see the sentences number 123, whihc is basically our feature number 123\n",
    "clean_text(features[123])"
   ]
  },
  {
   "cell_type": "markdown",
   "id": "824087e2",
   "metadata": {},
   "source": [
    "### TF_IDF Vectorization"
   ]
  },
  {
   "cell_type": "code",
   "execution_count": 28,
   "id": "9322e9aa",
   "metadata": {},
   "outputs": [],
   "source": [
    "# import the class \n",
    "from sklearn.feature_extraction.text import TfidfVectorizer"
   ]
  },
  {
   "cell_type": "code",
   "execution_count": 29,
   "id": "09a3c60e",
   "metadata": {},
   "outputs": [],
   "source": [
    "# create object\n",
    "tfidf = TfidfVectorizer(analyzer=clean_text)    \n",
    "# Before Vectorization , cleaning is done and the clean text is passed to get vectorized"
   ]
  },
  {
   "cell_type": "code",
   "execution_count": 31,
   "id": "68067e01",
   "metadata": {},
   "outputs": [
    {
     "data": {
      "text/plain": [
       "<9900x33653 sparse matrix of type '<class 'numpy.float64'>'\n",
       "\twith 1561174 stored elements in Compressed Sparse Row format>"
      ]
     },
     "execution_count": 31,
     "metadata": {},
     "output_type": "execute_result"
    }
   ],
   "source": [
    "# Perform the Operation\n",
    "features_new = tfidf.fit_transform(features)\n",
    "features_new"
   ]
  },
  {
   "cell_type": "code",
   "execution_count": 32,
   "id": "f582f577",
   "metadata": {},
   "outputs": [
    {
     "data": {
      "text/plain": [
       "(9900, 33653)"
      ]
     },
     "execution_count": 32,
     "metadata": {},
     "output_type": "execute_result"
    }
   ],
   "source": [
    "features_new.shape"
   ]
  },
  {
   "cell_type": "code",
   "execution_count": 33,
   "id": "6039618e",
   "metadata": {},
   "outputs": [
    {
     "data": {
      "text/plain": [
       "33653"
      ]
     },
     "execution_count": 33,
     "metadata": {},
     "output_type": "execute_result"
    }
   ],
   "source": [
    "len(tfidf.get_feature_names_out())"
   ]
  },
  {
   "cell_type": "code",
   "execution_count": null,
   "id": "d8a7f54d",
   "metadata": {},
   "outputs": [],
   "source": [
    "# Now essential Step \n",
    "# How to find the accuracy of the model . How to evaluate? Cross Validation ppt\n",
    "# Cross Validation / Holdout Method"
   ]
  },
  {
   "cell_type": "markdown",
   "id": "db3c083d",
   "metadata": {},
   "source": [
    "#### Cross Validation"
   ]
  },
  {
   "cell_type": "code",
   "execution_count": 34,
   "id": "dce68be3",
   "metadata": {},
   "outputs": [],
   "source": [
    "# import the function\n",
    "from sklearn.model_selection import train_test_split"
   ]
  },
  {
   "cell_type": "code",
   "execution_count": 35,
   "id": "fe6a097d",
   "metadata": {},
   "outputs": [],
   "source": [
    "# Perfom Cross-validation \n",
    "x_train, x_test,y_train, y_test = train_test_split (features_new, label, random_state = 0)   \n",
    "# Where did we specify the percentage ?"
   ]
  },
  {
   "cell_type": "code",
   "execution_count": 52,
   "id": "59d5ab1f",
   "metadata": {},
   "outputs": [
    {
     "data": {
      "text/plain": [
       "(7425, 33653)"
      ]
     },
     "execution_count": 52,
     "metadata": {},
     "output_type": "execute_result"
    }
   ],
   "source": [
    "x_train.shape"
   ]
  },
  {
   "cell_type": "code",
   "execution_count": 53,
   "id": "43ebbdc4",
   "metadata": {},
   "outputs": [
    {
     "data": {
      "text/plain": [
       "(2475, 33653)"
      ]
     },
     "execution_count": 53,
     "metadata": {},
     "output_type": "execute_result"
    }
   ],
   "source": [
    "x_test.shape"
   ]
  },
  {
   "cell_type": "code",
   "execution_count": 54,
   "id": "0a8b52ba",
   "metadata": {},
   "outputs": [
    {
     "data": {
      "text/plain": [
       "(7425,)"
      ]
     },
     "execution_count": 54,
     "metadata": {},
     "output_type": "execute_result"
    }
   ],
   "source": [
    "y_train.shape"
   ]
  },
  {
   "cell_type": "code",
   "execution_count": null,
   "id": "8f16073a",
   "metadata": {},
   "outputs": [],
   "source": [
    "y_test.shape"
   ]
  },
  {
   "cell_type": "code",
   "execution_count": null,
   "id": "12861a23",
   "metadata": {},
   "outputs": [],
   "source": [
    "x_train[0]"
   ]
  },
  {
   "cell_type": "code",
   "execution_count": null,
   "id": "a693c8bc",
   "metadata": {},
   "outputs": [],
   "source": [
    "y_train[0]"
   ]
  },
  {
   "cell_type": "markdown",
   "id": "522f08af",
   "metadata": {},
   "source": [
    "#### Building the Decision Tree Algorithm on the Training data"
   ]
  },
  {
   "cell_type": "code",
   "execution_count": 42,
   "id": "bd3a512e",
   "metadata": {},
   "outputs": [],
   "source": [
    "# Import the class\n",
    "from sklearn.tree import DecisionTreeClassifier"
   ]
  },
  {
   "cell_type": "code",
   "execution_count": 43,
   "id": "24cd5a5e",
   "metadata": {},
   "outputs": [],
   "source": [
    "# Create the object\n",
    "dt = DecisionTreeClassifier(random_state=0)"
   ]
  },
  {
   "cell_type": "code",
   "execution_count": 44,
   "id": "996ac7bb",
   "metadata": {},
   "outputs": [
    {
     "data": {
      "text/plain": [
       "DecisionTreeClassifier(random_state=0)"
      ]
     },
     "execution_count": 44,
     "metadata": {},
     "output_type": "execute_result"
    }
   ],
   "source": [
    "# train the algorithm\n",
    "dt.fit(x_train, y_train)  # This will create the Tree"
   ]
  },
  {
   "cell_type": "code",
   "execution_count": 45,
   "id": "34b98743",
   "metadata": {},
   "outputs": [],
   "source": [
    "# To see the Tree\n",
    "from sklearn.tree import plot_tree"
   ]
  },
  {
   "cell_type": "code",
   "execution_count": 48,
   "id": "7dfd2470",
   "metadata": {},
   "outputs": [
    {
     "data": {
      "image/png": "[encoded data removed]",
      "text/plain": [
       "<Figure size 640x480 with 1 Axes>"
      ]
     },
     "metadata": {},
     "output_type": "display_data"
    }
   ],
   "source": [
    "plot_tree(dt);     # It ll show only the important Features and take only them into account"
   ]
  },
  {
   "cell_type": "code",
   "execution_count": 58,
   "id": "4e531cae",
   "metadata": {},
   "outputs": [
    {
     "data": {
      "image/png": "[encoded data removed]",
      "text/plain": [
       "<Figure size 1200x800 with 1 Axes>"
      ]
     },
     "metadata": {},
     "output_type": "display_data"
    }
   ],
   "source": [
    "plt.figure(figsize=(12,8))\n",
    "plot_tree(dt, fontsize =7);    # Only 10 features are taken to draw the tree which are imp "
   ]
  },
  {
   "cell_type": "code",
   "execution_count": 60,
   "id": "8bf75e25",
   "metadata": {},
   "outputs": [
    {
     "data": {
      "text/plain": [
       "'reuter'"
      ]
     },
     "execution_count": 60,
     "metadata": {},
     "output_type": "execute_result"
    }
   ],
   "source": [
    "# To see the exact root node feature \n",
    "tfidf.get_feature_names_out()[24802]"
   ]
  },
  {
   "cell_type": "markdown",
   "id": "22cd8be2",
   "metadata": {},
   "source": [
    "#### Performance Evaluation"
   ]
  },
  {
   "cell_type": "code",
   "execution_count": 49,
   "id": "b184dee7",
   "metadata": {},
   "outputs": [
    {
     "data": {
      "text/plain": [
       "array(['Fake', 'Fake', 'Fake', ..., 'Fake', 'Fake', 'Fake'], dtype=object)"
      ]
     },
     "execution_count": 49,
     "metadata": {},
     "output_type": "execute_result"
    }
   ],
   "source": [
    "# Predict the result on test data\n",
    "y_pred = dt.predict(x_test)\n",
    "y_pred     # Alogrithm predicted Data"
   ]
  },
  {
   "cell_type": "code",
   "execution_count": 50,
   "id": "0077deae",
   "metadata": {},
   "outputs": [
    {
     "data": {
      "text/plain": [
       "2475"
      ]
     },
     "execution_count": 50,
     "metadata": {},
     "output_type": "execute_result"
    }
   ],
   "source": [
    "len(y_pred)"
   ]
  },
  {
   "cell_type": "code",
   "execution_count": 51,
   "id": "8081ab8d",
   "metadata": {},
   "outputs": [
    {
     "data": {
      "text/plain": [
       "6688    Fake\n",
       "5766    Fake\n",
       "6335    Fake\n",
       "5857    Real\n",
       "7323    Real\n",
       "        ... \n",
       "14      Real\n",
       "5489    Real\n",
       "6953    Fake\n",
       "6780    Fake\n",
       "6727    Fake\n",
       "Name: label, Length: 2475, dtype: object"
      ]
     },
     "execution_count": 51,
     "metadata": {},
     "output_type": "execute_result"
    }
   ],
   "source": [
    "y_test  # Print and compare with y_pred"
   ]
  },
  {
   "cell_type": "markdown",
   "id": "f9ad0f38",
   "metadata": {},
   "source": [
    "#  8th Session"
   ]
  },
  {
   "cell_type": "code",
   "execution_count": 61,
   "id": "a59463a8",
   "metadata": {},
   "outputs": [],
   "source": [
    "# Confusion matrix ppt\n",
    "# import the class \n",
    "from sklearn.metrics import ConfusionMatrixDisplay"
   ]
  },
  {
   "cell_type": "code",
   "execution_count": 62,
   "id": "6e275e59",
   "metadata": {},
   "outputs": [
    {
     "data": {
      "image/png": "[encoded data removed]",
      "text/plain": [
       "<Figure size 640x480 with 2 Axes>"
      ]
     },
     "metadata": {},
     "output_type": "display_data"
    }
   ],
   "source": [
    "# Show the matrix\n",
    "ConfusionMatrixDisplay.from_predictions(y_test, y_pred);"
   ]
  },
  {
   "cell_type": "code",
   "execution_count": 68,
   "id": "c10ea1f3",
   "metadata": {},
   "outputs": [
    {
     "data": {
      "text/plain": [
       "0.9971717171717172"
      ]
     },
     "execution_count": 68,
     "metadata": {},
     "output_type": "execute_result"
    }
   ],
   "source": [
    "(1269+1199)/2475"
   ]
  },
  {
   "cell_type": "code",
   "execution_count": null,
   "id": "da641edb",
   "metadata": {},
   "outputs": [],
   "source": [
    "# Fake Class\n",
    "1269/1273"
   ]
  },
  {
   "cell_type": "code",
   "execution_count": null,
   "id": "934ee437",
   "metadata": {},
   "outputs": [],
   "source": [
    "# Real Class\n",
    "1199/1202"
   ]
  },
  {
   "cell_type": "markdown",
   "id": "3cb509a4",
   "metadata": {},
   "source": [
    "## Prediction on Unseen New news using our Decision Tree  model"
   ]
  },
  {
   "cell_type": "code",
   "execution_count": 63,
   "id": "67698622",
   "metadata": {},
   "outputs": [],
   "source": [
    "f = open('sample_news.txt', encoding = 'utf-8')"
   ]
  },
  {
   "cell_type": "code",
   "execution_count": 64,
   "id": "d971224e",
   "metadata": {},
   "outputs": [
    {
     "data": {
      "text/plain": [
       "['\" Donald Trump’s ‘Charity’ Foundation Is About To Be Shut The F**k Down NATIONWIDE Things really aren t looking too great for Donald Trump s charity foundation. With recent developments prohibiting the Trump Foundation from soliciting funds in New York state, it s now looking like a good majority of states may be following suit.The Trump Foundation has also been being looked at by the Attorney General for how it is getting and spending funds, especially after what happen with veterans organizations earlier this year.According to The Daily Beast: To make matters worse for the Trump Foundation, the probe may not be limited to New York: Charity experts and lawyers tell The Daily Beast that the attorneys general of other states may soon get involved in a long, drawn-out process.All major charities are required to register with 41 different states across the nation in order to individually request permission to fundraise. When Trump raised money for veterans, he may have broken the rules in dozens of states. The president of the National Committee for Responsible Philanthropy, Aaron Dorfman, stated: The Trump Foundation would be required to file similar paperwork with the attorneys generals of nearly every other state, and they could all take similar action. It is likely that other states will follow suit and they will be issued cease and desist orders denying them fundraising privileges in other states. That is the most likely next step. This is not good news for Trump who keeps trying to pivot to slamming Hillary Clinton s Clinton Foundation. You know, the one that helps fight AIDS in nations globally.Trump, of course, likes to pretend that he s holier than thou, which might explain why Trump Foundation money was used to buy pictures of, well, himself.And according to Real Clear Politics: From 2011 through 2014, Trump harnessed his eponymous foundation to send at least $286,000 to influential conservative or policy groups, a RealClearPolitics review of the foundation s tax filings found. In many cases, this flow of money corresponded to prime speaking slots or endorsements that aided Trump as he sought to recast himself as a plausible Republican candidate for president. Finding out Trump is a scam artist using a shell charity with his same name really should come as no surprise. Especially to fund his political ambitions of grandeur. However, it will be interesting to see how this story develops as the November election draws nearer.Featured Photo by Scott Olson/Getty Images\"\\n',\n",
       " '\"U.S. environmental agency chief says humans contribute to global warming WASHINGTON (Reuters) - The head of the U.S. Environmental Protection Agency, Scott Pruitt, said on Friday he believes human activity plays a role in global warming, but measuring that contribution with precision is difficult. Speaking to reporters at the White House a day after President Donald Trump said he would withdraw the United States  from the Paris climate accord, Pruitt declined to directly answer questions about whether the president still believed global warming was a hoax, as he had said during the 2016 presidential campaign Pruitt said he had indicated that global warming is occurring, and that “human activity contributes to it in some manner. Measuring with precision, from my perspective, the degree of human contribution is very challenging.” \"\\n',\n",
       " '\" Golden State Warriors Coach Just WRECKED Trump After Attack On One Of His Players On Saturday, the man we re forced to call  President  Trump responded to Golden State Warriors star Stephen Curry s refusal to accept an invitation to the White House by doing the internet equivalent of incoherently screeching  WELL FINE,  YOU RE NOT INVITED ANYWAY. Going to the White House is considered a great honor for a championship team.Stephen Curry is hesitating,therefore invitation is withdrawn!  Donald J. Trump (@realDonaldTrump) September 23, 2017Unfortunately for Trump, Warriors coach Steve Kerr has Curry s back. The idea of civil discourse with a guy who is tweeting and demeaning people and saying the things he s saying is sort of far-fetched,  Kerr said on Sunday.  Can you picture us really having a civil discourse with him? It was an actual chance to talk to the president,  he said.  After all, he works for us. He s a public servant. He may not be aware of that, but he is a public servant, right? So maybe as NBA champions, as people in a prominent position, we could go in and say,  This is what s bothering us, what can we do about this?\\'  Then he laid in to Trump for attacking black football players for exercising their First Amendment rights while calling Nazis  very fine people: How about the irony of  Free speech is fine if you re a neo-Nazi chanting hate slogans, but free speech is not allowed to kneel in protest?  No matter how many times a football player says,  I honor our military, but I m protesting police brutality and racial inequality,  it doesn t matter. Nationalists are saying,  You re disrespecting our flag.  Well, you know what else is disrespectful to our flag? Racism. And one s way worse than the other. Trump is a constant embarrassment to our country.Watch Kerr rip him apart below:Featured image via video screen capture\"\\n']"
      ]
     },
     "execution_count": 64,
     "metadata": {},
     "output_type": "execute_result"
    }
   ],
   "source": [
    "news = f.readlines()\n",
    "news"
   ]
  },
  {
   "cell_type": "code",
   "execution_count": 70,
   "id": "bf75fc2d",
   "metadata": {},
   "outputs": [
    {
     "data": {
      "text/plain": [
       "3"
      ]
     },
     "execution_count": 70,
     "metadata": {},
     "output_type": "execute_result"
    }
   ],
   "source": [
    "len(news)    # There are 3 news/sentences"
   ]
  },
  {
   "cell_type": "code",
   "execution_count": 71,
   "id": "2e2c6f2e",
   "metadata": {},
   "outputs": [
    {
     "data": {
      "text/plain": [
       "<3x33653 sparse matrix of type '<class 'numpy.float64'>'\n",
       "\twith 359 stored elements in Compressed Sparse Row format>"
      ]
     },
     "execution_count": 71,
     "metadata": {},
     "output_type": "execute_result"
    }
   ],
   "source": [
    "tfidf.transform(news)      # Transforming and applying... We need to vectorize(change to Matrix form) first before predicting"
   ]
  },
  {
   "cell_type": "code",
   "execution_count": 72,
   "id": "ca29c16f",
   "metadata": {},
   "outputs": [
    {
     "data": {
      "text/plain": [
       "array(['Fake', 'Real', 'Fake'], dtype=object)"
      ]
     },
     "execution_count": 72,
     "metadata": {},
     "output_type": "execute_result"
    }
   ],
   "source": [
    "dt.predict(tfidf.transform(news))        # Predicting"
   ]
  },
  {
   "cell_type": "markdown",
   "id": "6a003d6e",
   "metadata": {},
   "source": [
    "### Next we ll learn Machine learning on Multi-class Classification"
   ]
  },
  {
   "cell_type": "code",
   "execution_count": null,
   "id": "2deee42a",
   "metadata": {},
   "outputs": [],
   "source": []
  }
 ],
 "metadata": {
  "kernelspec": {
   "display_name": "Python 3 (ipykernel)",
   "language": "python",
   "name": "python3"
  },
  "language_info": {
   "codemirror_mode": {
    "name": "ipython",
    "version": 3
   },
   "file_extension": ".py",
   "mimetype": "text/x-python",
   "name": "python",
   "nbconvert_exporter": "python",
   "pygments_lexer": "ipython3",
   "version": "3.9.13"
  }
 },
 "nbformat": 4,
 "nbformat_minor": 5
}
