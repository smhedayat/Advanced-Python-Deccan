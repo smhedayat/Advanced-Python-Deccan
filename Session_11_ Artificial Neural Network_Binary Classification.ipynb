{
 "cells": [
  {
   "cell_type": "markdown",
   "id": "c11c29d6",
   "metadata": {},
   "source": [
    "### Name : S.M.Hedayatullah\n",
    "### Enroll No. 0010"
   ]
  },
  {
   "cell_type": "markdown",
   "id": "50543e43",
   "metadata": {},
   "source": [
    "## PPT: Deep Learning and Neural Network"
   ]
  },
  {
   "cell_type": "markdown",
   "id": "18f972b4",
   "metadata": {},
   "source": [
    "### Dataset "
   ]
  },
  {
   "cell_type": "code",
   "execution_count": null,
   "id": "82af3b78",
   "metadata": {},
   "outputs": [],
   "source": [
    "# Name : SMSSpamCollection     . It's  a tsv file\n",
    "# Location: https://mitu.co.in/dataset/"
   ]
  },
  {
   "cell_type": "markdown",
   "id": "727cca8b",
   "metadata": {},
   "source": [
    "#### Import the libraries"
   ]
  },
  {
   "cell_type": "code",
   "execution_count": 1,
   "id": "d437d30f",
   "metadata": {},
   "outputs": [],
   "source": [
    "import pandas as pd\n",
    "import seaborn as sns"
   ]
  },
  {
   "cell_type": "markdown",
   "id": "54c64b94",
   "metadata": {},
   "source": [
    "#### Read the Data"
   ]
  },
  {
   "cell_type": "code",
   "execution_count": 2,
   "id": "cca82536",
   "metadata": {},
   "outputs": [],
   "source": [
    "df = pd.read_csv('SMSSpamCollection', sep='\\t', names=['label','text']) # We assign labels"
   ]
  },
  {
   "cell_type": "code",
   "execution_count": 3,
   "id": "33034639",
   "metadata": {},
   "outputs": [
    {
     "data": {
      "text/html": [
       "<div>\n",
       "<style scoped>\n",
       "    .dataframe tbody tr th:only-of-type {\n",
       "        vertical-align: middle;\n",
       "    }\n",
       "\n",
       "    .dataframe tbody tr th {\n",
       "        vertical-align: top;\n",
       "    }\n",
       "\n",
       "    .dataframe thead th {\n",
       "        text-align: right;\n",
       "    }\n",
       "</style>\n",
       "<table border=\"1\" class=\"dataframe\">\n",
       "  <thead>\n",
       "    <tr style=\"text-align: right;\">\n",
       "      <th></th>\n",
       "      <th>label</th>\n",
       "      <th>text</th>\n",
       "    </tr>\n",
       "  </thead>\n",
       "  <tbody>\n",
       "    <tr>\n",
       "      <th>0</th>\n",
       "      <td>ham</td>\n",
       "      <td>Go until jurong point, crazy.. Available only ...</td>\n",
       "    </tr>\n",
       "    <tr>\n",
       "      <th>1</th>\n",
       "      <td>ham</td>\n",
       "      <td>Ok lar... Joking wif u oni...</td>\n",
       "    </tr>\n",
       "    <tr>\n",
       "      <th>2</th>\n",
       "      <td>spam</td>\n",
       "      <td>Free entry in 2 a wkly comp to win FA Cup fina...</td>\n",
       "    </tr>\n",
       "    <tr>\n",
       "      <th>3</th>\n",
       "      <td>ham</td>\n",
       "      <td>U dun say so early hor... U c already then say...</td>\n",
       "    </tr>\n",
       "    <tr>\n",
       "      <th>4</th>\n",
       "      <td>ham</td>\n",
       "      <td>Nah I don't think he goes to usf, he lives aro...</td>\n",
       "    </tr>\n",
       "    <tr>\n",
       "      <th>...</th>\n",
       "      <td>...</td>\n",
       "      <td>...</td>\n",
       "    </tr>\n",
       "    <tr>\n",
       "      <th>5567</th>\n",
       "      <td>spam</td>\n",
       "      <td>This is the 2nd time we have tried 2 contact u...</td>\n",
       "    </tr>\n",
       "    <tr>\n",
       "      <th>5568</th>\n",
       "      <td>ham</td>\n",
       "      <td>Will ü b going to esplanade fr home?</td>\n",
       "    </tr>\n",
       "    <tr>\n",
       "      <th>5569</th>\n",
       "      <td>ham</td>\n",
       "      <td>Pity, * was in mood for that. So...any other s...</td>\n",
       "    </tr>\n",
       "    <tr>\n",
       "      <th>5570</th>\n",
       "      <td>ham</td>\n",
       "      <td>The guy did some bitching but I acted like i'd...</td>\n",
       "    </tr>\n",
       "    <tr>\n",
       "      <th>5571</th>\n",
       "      <td>ham</td>\n",
       "      <td>Rofl. Its true to its name</td>\n",
       "    </tr>\n",
       "  </tbody>\n",
       "</table>\n",
       "<p>5572 rows × 2 columns</p>\n",
       "</div>"
      ],
      "text/plain": [
       "     label                                               text\n",
       "0      ham  Go until jurong point, crazy.. Available only ...\n",
       "1      ham                      Ok lar... Joking wif u oni...\n",
       "2     spam  Free entry in 2 a wkly comp to win FA Cup fina...\n",
       "3      ham  U dun say so early hor... U c already then say...\n",
       "4      ham  Nah I don't think he goes to usf, he lives aro...\n",
       "...    ...                                                ...\n",
       "5567  spam  This is the 2nd time we have tried 2 contact u...\n",
       "5568   ham               Will ü b going to esplanade fr home?\n",
       "5569   ham  Pity, * was in mood for that. So...any other s...\n",
       "5570   ham  The guy did some bitching but I acted like i'd...\n",
       "5571   ham                         Rofl. Its true to its name\n",
       "\n",
       "[5572 rows x 2 columns]"
      ]
     },
     "execution_count": 3,
     "metadata": {},
     "output_type": "execute_result"
    }
   ],
   "source": [
    "df"
   ]
  },
  {
   "cell_type": "code",
   "execution_count": null,
   "id": "3304c0da",
   "metadata": {},
   "outputs": [],
   "source": [
    "# For this thing above, operation will be done the same way . Preprocessing will be same as we have done earlier  "
   ]
  },
  {
   "cell_type": "markdown",
   "id": "087c7c51",
   "metadata": {},
   "source": [
    "### Separate input and output data"
   ]
  },
  {
   "cell_type": "code",
   "execution_count": 4,
   "id": "5a296fab",
   "metadata": {},
   "outputs": [],
   "source": [
    "# Input data   \n",
    "x = df['text']\n",
    "y = df['label']"
   ]
  },
  {
   "cell_type": "code",
   "execution_count": 5,
   "id": "35b3c201",
   "metadata": {},
   "outputs": [
    {
     "data": {
      "image/png": "[encoded data removed]",
      "text/plain": [
       "<Figure size 640x480 with 1 Axes>"
      ]
     },
     "metadata": {},
     "output_type": "display_data"
    }
   ],
   "source": [
    "# This is an imbalanced data\n",
    "sns.countplot(x=y);"
   ]
  },
  {
   "cell_type": "markdown",
   "id": "411e5417",
   "metadata": {},
   "source": [
    "###  Q : How to balance an imbalanced data : There is a concept called Re-sampling. Randon over sampler and random under sampler"
   ]
  },
  {
   "cell_type": "markdown",
   "id": "40b86b62",
   "metadata": {},
   "source": [
    "### Here we will use SMOT to balance data. Its present in Python and called Imbalance learn\n",
    "\n",
    "###  Second method is cost sensitive machine learning"
   ]
  },
  {
   "cell_type": "code",
   "execution_count": 6,
   "id": "210d76b8",
   "metadata": {},
   "outputs": [
    {
     "name": "stdout",
     "output_type": "stream",
     "text": [
      "Collecting imbalanced-learn\n",
      "  Using cached imbalanced_learn-0.12.3-py3-none-any.whl (258 kB)\n",
      "Requirement already satisfied: threadpoolctl>=2.0.0 in c:\\users\\user\\anaconda3\\lib\\site-packages (from imbalanced-learn) (2.2.0)\n",
      "Requirement already satisfied: scikit-learn>=1.0.2 in c:\\users\\user\\anaconda3\\lib\\site-packages (from imbalanced-learn) (1.0.2)\n",
      "Collecting joblib>=1.1.1\n",
      "  Using cached joblib-1.4.2-py3-none-any.whl (301 kB)\n",
      "Requirement already satisfied: numpy>=1.17.3 in c:\\users\\user\\anaconda3\\lib\\site-packages (from imbalanced-learn) (1.24.4)\n",
      "Requirement already satisfied: scipy>=1.5.0 in c:\\users\\user\\anaconda3\\lib\\site-packages (from imbalanced-learn) (1.9.1)\n",
      "Installing collected packages: joblib, imbalanced-learn\n",
      "  Attempting uninstall: joblib\n",
      "    Found existing installation: joblib 1.1.0\n",
      "    Uninstalling joblib-1.1.0:\n",
      "      Successfully uninstalled joblib-1.1.0\n",
      "Successfully installed imbalanced-learn-0.12.3 joblib-1.4.2\n",
      "Note: you may need to restart the kernel to use updated packages.\n"
     ]
    }
   ],
   "source": [
    "pip install imbalanced-learn"
   ]
  },
  {
   "cell_type": "markdown",
   "id": "e16ef8e5",
   "metadata": {},
   "source": [
    "### Data Preparation"
   ]
  },
  {
   "cell_type": "markdown",
   "id": "ffa1130a",
   "metadata": {},
   "source": [
    "#### Data Cleaning"
   ]
  },
  {
   "cell_type": "code",
   "execution_count": 9,
   "id": "3a3ad011",
   "metadata": {},
   "outputs": [],
   "source": [
    "from nltk.tokenize import word_tokenize\n",
    "from nltk.corpus import stopwords"
   ]
  },
  {
   "cell_type": "code",
   "execution_count": 10,
   "id": "41b96865",
   "metadata": {},
   "outputs": [],
   "source": [
    "swords = stopwords.words('english')"
   ]
  },
  {
   "cell_type": "code",
   "execution_count": 12,
   "id": "7d415e12",
   "metadata": {},
   "outputs": [],
   "source": [
    "# Define a function for text cleaning\n",
    "def clean_text(sent):\n",
    "    tokens1 = word_tokenize(sent)\n",
    "    tokens2 = [x.lower() for x in tokens1 if x.isalpha()]\n",
    "    tokens3 = [x.lower() for x in tokens2 if x in tokens2 if x not in swords]\n",
    "    return tokens3"
   ]
  },
  {
   "cell_type": "code",
   "execution_count": 14,
   "id": "fa68c9fd",
   "metadata": {},
   "outputs": [
    {
     "data": {
      "text/plain": [
       "['expected', 'result', 'told', 'fields']"
      ]
     },
     "execution_count": 14,
     "metadata": {},
     "output_type": "execute_result"
    }
   ],
   "source": [
    "# Check if the function is working fine\n",
    "new_sent = 'It was the expected result. They told the same on fields'\n",
    "clean_text(new_sent)"
   ]
  },
  {
   "cell_type": "code",
   "execution_count": 15,
   "id": "9aeed87d",
   "metadata": {},
   "outputs": [],
   "source": [
    "# New let's Vectorize the data"
   ]
  },
  {
   "cell_type": "markdown",
   "id": "4e71c1dd",
   "metadata": {},
   "source": [
    "### TD*IDF Vectorization"
   ]
  },
  {
   "cell_type": "code",
   "execution_count": 17,
   "id": "604176cc",
   "metadata": {},
   "outputs": [],
   "source": [
    "# import the class\n",
    "from sklearn.feature_extraction.text import TfidfVectorizer"
   ]
  },
  {
   "cell_type": "code",
   "execution_count": 18,
   "id": "5e9bd787",
   "metadata": {},
   "outputs": [],
   "source": [
    "# Create object\n",
    "tfidf = TfidfVectorizer(analyzer=clean_text)"
   ]
  },
  {
   "cell_type": "code",
   "execution_count": 21,
   "id": "d57a0ed5",
   "metadata": {},
   "outputs": [],
   "source": [
    "# Perfrom the operation\n",
    "x_new = tfidf.fit_transform(x)"
   ]
  },
  {
   "cell_type": "code",
   "execution_count": 25,
   "id": "0553d4d4",
   "metadata": {},
   "outputs": [
    {
     "data": {
      "text/plain": [
       "(5572, 7217)"
      ]
     },
     "execution_count": 25,
     "metadata": {},
     "output_type": "execute_result"
    }
   ],
   "source": [
    "x_new.shape    #5572 rows and 7217 columns/unique words are there . Their Tf*Idf score will be present below in the data"
   ]
  },
  {
   "cell_type": "markdown",
   "id": "f5d33d4e",
   "metadata": {},
   "source": [
    "### Note: Apply the Data Balancing only after Vectorization"
   ]
  },
  {
   "cell_type": "code",
   "execution_count": 27,
   "id": "5d46ca22",
   "metadata": {},
   "outputs": [
    {
     "data": {
      "text/plain": [
       "0       Go until jurong point, crazy.. Available only ...\n",
       "1                           Ok lar... Joking wif u oni...\n",
       "2       Free entry in 2 a wkly comp to win FA Cup fina...\n",
       "3       U dun say so early hor... U c already then say...\n",
       "4       Nah I don't think he goes to usf, he lives aro...\n",
       "                              ...                        \n",
       "5567    This is the 2nd time we have tried 2 contact u...\n",
       "5568                 Will ü b going to esplanade fr home?\n",
       "5569    Pity, * was in mood for that. So...any other s...\n",
       "5570    The guy did some bitching but I acted like i'd...\n",
       "5571                           Rofl. Its true to its name\n",
       "Name: text, Length: 5572, dtype: object"
      ]
     },
     "execution_count": 27,
     "metadata": {},
     "output_type": "execute_result"
    }
   ],
   "source": [
    "x    # Features"
   ]
  },
  {
   "cell_type": "code",
   "execution_count": 28,
   "id": "04364c55",
   "metadata": {},
   "outputs": [
    {
     "data": {
      "text/plain": [
       "0        ham\n",
       "1        ham\n",
       "2       spam\n",
       "3        ham\n",
       "4        ham\n",
       "        ... \n",
       "5567    spam\n",
       "5568     ham\n",
       "5569     ham\n",
       "5570     ham\n",
       "5571     ham\n",
       "Name: label, Length: 5572, dtype: object"
      ]
     },
     "execution_count": 28,
     "metadata": {},
     "output_type": "execute_result"
    }
   ],
   "source": [
    "y   # The output is not in numerical form.See below"
   ]
  },
  {
   "cell_type": "markdown",
   "id": "3209b071",
   "metadata": {},
   "source": [
    "#### Note: For Neural Network we need to change the output in number format . We use encoding for that"
   ]
  },
  {
   "cell_type": "markdown",
   "id": "3452f579",
   "metadata": {},
   "source": [
    "### Encoding of output variable by using Label Encoder"
   ]
  },
  {
   "cell_type": "code",
   "execution_count": 30,
   "id": "27a70f9c",
   "metadata": {},
   "outputs": [],
   "source": [
    "# import the class \n",
    "from sklearn.preprocessing import LabelEncoder"
   ]
  },
  {
   "cell_type": "code",
   "execution_count": 31,
   "id": "dd2ef885",
   "metadata": {},
   "outputs": [],
   "source": [
    "# create the object\n",
    "le = LabelEncoder()"
   ]
  },
  {
   "cell_type": "code",
   "execution_count": 32,
   "id": "d58d0955",
   "metadata": {},
   "outputs": [
    {
     "data": {
      "text/plain": [
       "array([0, 0, 1, ..., 0, 0, 0])"
      ]
     },
     "execution_count": 32,
     "metadata": {},
     "output_type": "execute_result"
    }
   ],
   "source": [
    "# Apply the encoding\n",
    "y_new = le.fit_transform(y)\n",
    "y_new     # ham is 0 is spam is 1"
   ]
  },
  {
   "cell_type": "markdown",
   "id": "a965b992",
   "metadata": {},
   "source": [
    "#### Note: We dont need to do the encoding in Machine learning because it considers only the input"
   ]
  },
  {
   "cell_type": "code",
   "execution_count": 34,
   "id": "55d20555",
   "metadata": {},
   "outputs": [
    {
     "data": {
      "text/plain": [
       "array(['ham', 'spam'], dtype=object)"
      ]
     },
     "execution_count": 34,
     "metadata": {},
     "output_type": "execute_result"
    }
   ],
   "source": [
    "# To see the classes\n",
    "le.classes_     # ham is 0 and spam is 1"
   ]
  },
  {
   "cell_type": "code",
   "execution_count": 35,
   "id": "d6480c78",
   "metadata": {},
   "outputs": [
    {
     "data": {
      "text/plain": [
       "array(['ham'], dtype=object)"
      ]
     },
     "execution_count": 35,
     "metadata": {},
     "output_type": "execute_result"
    }
   ],
   "source": [
    "le.inverse_transform([0])"
   ]
  },
  {
   "cell_type": "code",
   "execution_count": 36,
   "id": "4c901f5d",
   "metadata": {},
   "outputs": [
    {
     "data": {
      "text/plain": [
       "array(['spam'], dtype=object)"
      ]
     },
     "execution_count": 36,
     "metadata": {},
     "output_type": "execute_result"
    }
   ],
   "source": [
    "le.inverse_transform([1])"
   ]
  },
  {
   "cell_type": "markdown",
   "id": "386dcbfa",
   "metadata": {},
   "source": [
    "  # What is inverse transform ???"
   ]
  },
  {
   "cell_type": "code",
   "execution_count": null,
   "id": "b8e23e47",
   "metadata": {},
   "outputs": [],
   "source": []
  }
 ],
 "metadata": {
  "kernelspec": {
   "display_name": "Python 3 (ipykernel)",
   "language": "python",
   "name": "python3"
  },
  "language_info": {
   "codemirror_mode": {
    "name": "ipython",
    "version": 3
   },
   "file_extension": ".py",
   "mimetype": "text/x-python",
   "name": "python",
   "nbconvert_exporter": "python",
   "pygments_lexer": "ipython3",
   "version": "3.9.13"
  }
 },
 "nbformat": 4,
 "nbformat_minor": 5
}
